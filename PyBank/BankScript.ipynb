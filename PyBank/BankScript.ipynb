{
 "cells": [
  {
   "cell_type": "code",
   "execution_count": 25,
   "id": "4f8771d3",
   "metadata": {},
   "outputs": [],
   "source": [
    "# Import dependencies\n",
    "import os\n",
    "import csv"
   ]
  },
  {
   "cell_type": "code",
   "execution_count": 26,
   "id": "739684d2",
   "metadata": {},
   "outputs": [],
   "source": [
    "# Set path for file\n",
    "csvpath = os.path.join(os.getcwd(), \"Resources\", \"budget_data.csv\")"
   ]
  },
  {
   "cell_type": "code",
   "execution_count": 27,
   "id": "b8982312",
   "metadata": {},
   "outputs": [],
   "source": [
    "#variables \n",
    "months_count = 0\n",
    "net_total_profit_loss = 0\n",
    "previous_profit_loss = 0\n",
    "current_profit_loss = 0\n",
    "profit_loss_delta = 0\n",
    "\n",
    "#Lists to store data\n",
    "months = []\n",
    "changes = []"
   ]
  },
  {
   "cell_type": "code",
   "execution_count": 28,
   "id": "430d10c3",
   "metadata": {},
   "outputs": [],
   "source": [
    "# Open and read csv\n",
    "with open(csvpath, newline=\"\") as csvfile:\n",
    "    csv_reader = csv.reader(csvfile, delimiter=\",\")\n",
    "    \n",
    "    # Store the header row\n",
    "    header = next(csvfile)\n",
    "\n",
    "    for row in csv_reader:\n",
    "        # Count of months\n",
    "        months_count += 1\n",
    "\n",
    "        # Net total \n",
    "        current_profit_loss = int(row[1])\n",
    "        net_total_profit_loss += current_profit_loss\n",
    "\n",
    "        # For first month set previous month equal to current month \n",
    "        if (months_count == 1):\n",
    "            previous_profit_loss = current_profit_loss\n",
    "            \n",
    "            # Continue skips adding to the lists for the first month\n",
    "            continue \n",
    "\n",
    "        else:\n",
    "\n",
    "            # Add each month to the months list\n",
    "            months.append(row[0])\n",
    "\n",
    "            # Calculate and add changes to changes list\n",
    "            profit_loss_delta = current_profit_loss - previous_profit_loss\n",
    "            changes.append(profit_loss_delta)\n",
    "\n",
    "            # Set current_month_loss as previous_profit_loss \n",
    "            previous_profit_loss = current_profit_loss"
   ]
  },
  {
   "cell_type": "code",
   "execution_count": 29,
   "id": "bacbdaca",
   "metadata": {},
   "outputs": [],
   "source": [
    "#sum and average of the changes\n",
    "sum_changes = sum(changes)\n",
    "average_profit_loss = round(sum_changes/(months_count - 1), 2)\n",
    "\n",
    "# max and min changes\n",
    "max_change = max(changes)\n",
    "min_change = min(changes)\n",
    "\n",
    "# Locate the index value of max and min changes\n",
    "max_change_index = changes.index(max_change)\n",
    "min_change_index = changes.index(min_change)\n",
    "\n",
    "# Assign best and worst month\n",
    "best_month = months[max_change_index]\n",
    "worst_month = months[min_change_index]"
   ]
  },
  {
   "cell_type": "code",
   "execution_count": 32,
   "id": "4417c2fc",
   "metadata": {},
   "outputs": [
    {
     "name": "stdout",
     "output_type": "stream",
     "text": [
      "Financial Analysis\n",
      "\n",
      "----------------------------\n",
      "\n",
      "Total Months:  86\n",
      "\n",
      "Total:  $22564198\n",
      "\n",
      "Average Change:  $-8311.11\n",
      "\n",
      "Greatest Increase in Profits:  Aug-16 ($1862002)\n",
      "\n",
      "Greatest Decrease in Losses:  Feb-14 ($-1825558)\n",
      "\n"
     ]
    }
   ],
   "source": [
    "# -->>  Print the analysis to the terminal\n",
    "print(\"Financial Analysis\\n\")\n",
    "print(\"----------------------------\\n\")\n",
    "print(f\"Total Months:  {months_count}\\n\")\n",
    "print(f\"Total:  ${net_total_profit_loss}\\n\")\n",
    "print(f\"Average Change:  ${average_profit_loss}\\n\")\n",
    "print(f\"Greatest Increase in Profits:  {best_month} (${c})\\n\")\n",
    "print(f\"Greatest Decrease in Losses:  {worst_month} (${min_change})\\n\")"
   ]
  },
  {
   "cell_type": "code",
   "execution_count": 33,
   "id": "9ab3fd30",
   "metadata": {},
   "outputs": [],
   "source": [
    "# -->>  Export a text file with the results\n",
    "budget_file = os.path.join(\"Analysis\", \"budget_data.txt\")\n",
    "with open(budget_file, \"w\") as outfile:\n",
    "\n",
    "    outfile.write(\"Financial Analysis\\n\")\n",
    "    outfile.write(\"----------------------------\\n\")\n",
    "    outfile.write(f\"Total Months:  {months_count}\\n\")\n",
    "    outfile.write(f\"Total:  ${net_total_profit_loss}\\n\")\n",
    "    outfile.write(f\"Average Change:  ${average_profit_loss}\\n\")\n",
    "    outfile.write(f\"Greatest Increase in Profits:  {best_month} (${max_change})\\n\")\n",
    "    outfile.write(f\"Greatest Decrease in Losses:  {worst_month} (${min_change})\\n\")"
   ]
  },
  {
   "cell_type": "code",
   "execution_count": null,
   "id": "b9c8afe5",
   "metadata": {},
   "outputs": [],
   "source": []
  }
 ],
 "metadata": {
  "kernelspec": {
   "display_name": "Python 3 (ipykernel)",
   "language": "python",
   "name": "python3"
  },
  "language_info": {
   "codemirror_mode": {
    "name": "ipython",
    "version": 3
   },
   "file_extension": ".py",
   "mimetype": "text/x-python",
   "name": "python",
   "nbconvert_exporter": "python",
   "pygments_lexer": "ipython3",
   "version": "3.9.13"
  }
 },
 "nbformat": 4,
 "nbformat_minor": 5
}
